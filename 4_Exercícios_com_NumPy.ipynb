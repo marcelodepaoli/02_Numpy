{
  "nbformat": 4,
  "nbformat_minor": 0,
  "metadata": {
    "colab": {
      "provenance": [],
      "collapsed_sections": []
    },
    "kernelspec": {
      "name": "python3",
      "display_name": "Python 3"
    },
    "language_info": {
      "name": "python"
    }
  },
  "cells": [
    {
      "cell_type": "markdown",
      "source": [
        "#Exercícios com NumPy"
      ],
      "metadata": {
        "id": "KqUtznqcD8_E"
      }
    },
    {
      "cell_type": "markdown",
      "source": [
        "##### Importar NumPy como np"
      ],
      "metadata": {
        "id": "t1ViP5-mEFdr"
      }
    },
    {
      "cell_type": "code",
      "source": [],
      "metadata": {
        "id": "73Lz0nv7EDuu"
      },
      "execution_count": null,
      "outputs": []
    },
    {
      "cell_type": "markdown",
      "source": [
        "####Criar uma array com 10 zeros"
      ],
      "metadata": {
        "id": "5DuB6jqEEHwT"
      }
    },
    {
      "cell_type": "code",
      "source": [],
      "metadata": {
        "id": "ygCyHFgbEKq8"
      },
      "execution_count": null,
      "outputs": []
    },
    {
      "cell_type": "markdown",
      "source": [
        "####Criar uma array com 10 uns"
      ],
      "metadata": {
        "id": "D_hjAEgpELeb"
      }
    },
    {
      "cell_type": "code",
      "source": [],
      "metadata": {
        "id": "iDJhRJ4PEONk"
      },
      "execution_count": null,
      "outputs": []
    },
    {
      "cell_type": "markdown",
      "source": [
        "####Criar um array com 10 cincos"
      ],
      "metadata": {
        "id": "JA45ASFWEOm7"
      }
    },
    {
      "cell_type": "code",
      "source": [],
      "metadata": {
        "id": "HZEYtjTSEVx0"
      },
      "execution_count": null,
      "outputs": []
    },
    {
      "cell_type": "markdown",
      "source": [
        "####Criar um array com os inteiros de 10 até 50"
      ],
      "metadata": {
        "id": "7Csb6LJBEW1r"
      }
    },
    {
      "cell_type": "code",
      "source": [],
      "metadata": {
        "id": "SgKhzbD8Ed4k"
      },
      "execution_count": null,
      "outputs": []
    },
    {
      "cell_type": "markdown",
      "source": [
        "####Criar uma matriz 3x3 com valores de 0 a 8"
      ],
      "metadata": {
        "id": "GxhelrA2Eebt"
      }
    },
    {
      "cell_type": "code",
      "source": [],
      "metadata": {
        "id": "oK-fbwsIEv58"
      },
      "execution_count": null,
      "outputs": []
    },
    {
      "cell_type": "markdown",
      "source": [
        "####Criar uma matriz identidade 3x3"
      ],
      "metadata": {
        "id": "G319aoViE0u2"
      }
    },
    {
      "cell_type": "code",
      "source": [],
      "metadata": {
        "id": "uDqwFCjwE57D"
      },
      "execution_count": null,
      "outputs": []
    },
    {
      "cell_type": "markdown",
      "source": [
        "####Utilize o NumPy para gerar um número entre 0 e 1"
      ],
      "metadata": {
        "id": "2dJs9NOwE6kq"
      }
    },
    {
      "cell_type": "code",
      "source": [],
      "metadata": {
        "id": "PZAXZujRq1eY"
      },
      "execution_count": null,
      "outputs": []
    },
    {
      "cell_type": "markdown",
      "source": [
        "####Utilize o NumPy para gerar um array de 25 números aleatórios de uma amostra retirada de uma distribuição normal padrão"
      ],
      "metadata": {
        "id": "_VIYKOeAq2r5"
      }
    },
    {
      "cell_type": "code",
      "source": [],
      "metadata": {
        "id": "vOSj0wjtrJiA"
      },
      "execution_count": null,
      "outputs": []
    },
    {
      "cell_type": "markdown",
      "source": [
        "####Crie a seguinte matriz"
      ],
      "metadata": {
        "id": "t-cW8MMIrKHh"
      }
    },
    {
      "cell_type": "code",
      "source": [
        "#Digite seu código aqui"
      ],
      "metadata": {
        "id": "OJzUAy0XrUng"
      },
      "execution_count": null,
      "outputs": []
    },
    {
      "cell_type": "code",
      "source": [],
      "metadata": {
        "colab": {
          "base_uri": "https://localhost:8080/"
        },
        "id": "4ly6nK3xr-By",
        "outputId": "41037a00-c119-4a0a-826f-09df1bde5e1a"
      },
      "execution_count": null,
      "outputs": [
        {
          "output_type": "execute_result",
          "data": {
            "text/plain": [
              "array([[0.01, 0.02, 0.03, 0.04, 0.05, 0.06, 0.07, 0.08, 0.09, 0.1 ],\n",
              "       [0.11, 0.12, 0.13, 0.14, 0.15, 0.16, 0.17, 0.18, 0.19, 0.2 ],\n",
              "       [0.21, 0.22, 0.23, 0.24, 0.25, 0.26, 0.27, 0.28, 0.29, 0.3 ],\n",
              "       [0.31, 0.32, 0.33, 0.34, 0.35, 0.36, 0.37, 0.38, 0.39, 0.4 ],\n",
              "       [0.41, 0.42, 0.43, 0.44, 0.45, 0.46, 0.47, 0.48, 0.49, 0.5 ],\n",
              "       [0.51, 0.52, 0.53, 0.54, 0.55, 0.56, 0.57, 0.58, 0.59, 0.6 ],\n",
              "       [0.61, 0.62, 0.63, 0.64, 0.65, 0.66, 0.67, 0.68, 0.69, 0.7 ],\n",
              "       [0.71, 0.72, 0.73, 0.74, 0.75, 0.76, 0.77, 0.78, 0.79, 0.8 ],\n",
              "       [0.81, 0.82, 0.83, 0.84, 0.85, 0.86, 0.87, 0.88, 0.89, 0.9 ],\n",
              "       [0.91, 0.92, 0.93, 0.94, 0.95, 0.96, 0.97, 0.98, 0.99, 1.  ]])"
            ]
          },
          "metadata": {},
          "execution_count": 3
        }
      ]
    },
    {
      "cell_type": "markdown",
      "source": [
        "####Crie um array de 20 pontos linearmente espaçados entre 0 e 1"
      ],
      "metadata": {
        "id": "d3T6LA5atBCL"
      }
    },
    {
      "cell_type": "code",
      "source": [
        "#Digite seu código aqui"
      ],
      "metadata": {
        "id": "Kzx7OqABtUpI"
      },
      "execution_count": null,
      "outputs": []
    },
    {
      "cell_type": "code",
      "source": [],
      "metadata": {
        "colab": {
          "base_uri": "https://localhost:8080/"
        },
        "id": "Y59olksLubsh",
        "outputId": "84559bea-05fa-4509-e51c-497a972b3216"
      },
      "execution_count": null,
      "outputs": [
        {
          "output_type": "execute_result",
          "data": {
            "text/plain": [
              "array([0.        , 0.05263158, 0.10526316, 0.15789474, 0.21052632,\n",
              "       0.26315789, 0.31578947, 0.36842105, 0.42105263, 0.47368421,\n",
              "       0.52631579, 0.57894737, 0.63157895, 0.68421053, 0.73684211,\n",
              "       0.78947368, 0.84210526, 0.89473684, 0.94736842, 1.        ])"
            ]
          },
          "metadata": {},
          "execution_count": 4
        }
      ]
    },
    {
      "cell_type": "markdown",
      "source": [
        "#NumPy Indexação e Seleção\n",
        "Agora serão dadas algumas matrizes e você deve replicar os resultados apresentados na sequência"
      ],
      "metadata": {
        "id": "TarkMFqNuhI5"
      }
    },
    {
      "cell_type": "code",
      "source": [
        "mat = np.arange(1,26).reshape(5,5)\n",
        "mat"
      ],
      "metadata": {
        "id": "uGHdw2nNueXB",
        "colab": {
          "base_uri": "https://localhost:8080/"
        },
        "outputId": "f7fc8983-8b75-43b2-d68f-749b9483fcad"
      },
      "execution_count": null,
      "outputs": [
        {
          "output_type": "execute_result",
          "data": {
            "text/plain": [
              "array([[ 1,  2,  3,  4,  5],\n",
              "       [ 6,  7,  8,  9, 10],\n",
              "       [11, 12, 13, 14, 15],\n",
              "       [16, 17, 18, 19, 20],\n",
              "       [21, 22, 23, 24, 25]])"
            ]
          },
          "metadata": {},
          "execution_count": 2
        }
      ]
    },
    {
      "cell_type": "code",
      "source": [
        "#Digite seu código aqui"
      ],
      "metadata": {
        "id": "8RZhPEQY37Q_"
      },
      "execution_count": null,
      "outputs": []
    },
    {
      "cell_type": "code",
      "source": [],
      "metadata": {
        "colab": {
          "base_uri": "https://localhost:8080/"
        },
        "id": "X9UXyRcs4Gho",
        "outputId": "5eeb1997-3f13-47bb-a8bb-249b3d420dea"
      },
      "execution_count": null,
      "outputs": [
        {
          "output_type": "execute_result",
          "data": {
            "text/plain": [
              "array([[12, 13, 14, 15],\n",
              "       [17, 18, 19, 20],\n",
              "       [22, 23, 24, 25]])"
            ]
          },
          "metadata": {},
          "execution_count": 3
        }
      ]
    },
    {
      "cell_type": "code",
      "source": [
        "#Digite seu código aqui"
      ],
      "metadata": {
        "id": "CVF-Tuow4Jk-"
      },
      "execution_count": null,
      "outputs": []
    },
    {
      "cell_type": "code",
      "source": [],
      "metadata": {
        "colab": {
          "base_uri": "https://localhost:8080/"
        },
        "id": "CeAbp1BR4Mlf",
        "outputId": "b64855d0-c68f-4a9f-c06f-9f12edb32d71"
      },
      "execution_count": null,
      "outputs": [
        {
          "output_type": "execute_result",
          "data": {
            "text/plain": [
              "20"
            ]
          },
          "metadata": {},
          "execution_count": 6
        }
      ]
    },
    {
      "cell_type": "code",
      "source": [
        "#Digite seu código aqui"
      ],
      "metadata": {
        "id": "GepwFFh24Oge"
      },
      "execution_count": null,
      "outputs": []
    },
    {
      "cell_type": "code",
      "source": [],
      "metadata": {
        "colab": {
          "base_uri": "https://localhost:8080/"
        },
        "id": "sRHxdOAD4S4g",
        "outputId": "60334560-239c-4c04-9560-ae38aec991e1"
      },
      "execution_count": null,
      "outputs": [
        {
          "output_type": "execute_result",
          "data": {
            "text/plain": [
              "array([[ 2],\n",
              "       [ 7],\n",
              "       [12]])"
            ]
          },
          "metadata": {},
          "execution_count": 8
        }
      ]
    },
    {
      "cell_type": "code",
      "source": [
        "#Digite seu código aqui"
      ],
      "metadata": {
        "id": "WYKj2gZS4U9_"
      },
      "execution_count": null,
      "outputs": []
    },
    {
      "cell_type": "code",
      "source": [],
      "metadata": {
        "colab": {
          "base_uri": "https://localhost:8080/"
        },
        "id": "3Sp1uW8b4fXg",
        "outputId": "fba474b6-6329-4aa6-aab7-2be23ebf9895"
      },
      "execution_count": null,
      "outputs": [
        {
          "output_type": "execute_result",
          "data": {
            "text/plain": [
              "array([21, 22, 23, 24, 25])"
            ]
          },
          "metadata": {},
          "execution_count": 10
        }
      ]
    },
    {
      "cell_type": "code",
      "source": [
        "#Digite seu código aqui"
      ],
      "metadata": {
        "id": "DN4-0Pq-4hGQ"
      },
      "execution_count": null,
      "outputs": []
    },
    {
      "cell_type": "code",
      "source": [],
      "metadata": {
        "colab": {
          "base_uri": "https://localhost:8080/"
        },
        "id": "uXdmQc_74kYI",
        "outputId": "87d80f5e-2794-43ad-985f-8f2e8ddb8d03"
      },
      "execution_count": null,
      "outputs": [
        {
          "output_type": "execute_result",
          "data": {
            "text/plain": [
              "array([[16, 17, 18, 19, 20],\n",
              "       [21, 22, 23, 24, 25]])"
            ]
          },
          "metadata": {},
          "execution_count": 12
        }
      ]
    },
    {
      "cell_type": "markdown",
      "source": [
        "#Agora faça o seguinte\n",
        "####Obtenha a soma de todos os valores em mat"
      ],
      "metadata": {
        "id": "36HhapL94qjC"
      }
    },
    {
      "cell_type": "code",
      "source": [],
      "metadata": {
        "id": "6z4oC9DO4z4g"
      },
      "execution_count": null,
      "outputs": []
    },
    {
      "cell_type": "markdown",
      "source": [
        "####Obtenha o desvio padrão dos valores em mat"
      ],
      "metadata": {
        "id": "9aqotvTU43fB"
      }
    },
    {
      "cell_type": "code",
      "source": [],
      "metadata": {
        "id": "2MYleHLE4-aq"
      },
      "execution_count": null,
      "outputs": []
    },
    {
      "cell_type": "markdown",
      "source": [
        "####Obtenha a soma de todas as colunas em mat"
      ],
      "metadata": {
        "id": "aVjNDotL4_K7"
      }
    },
    {
      "cell_type": "code",
      "source": [],
      "metadata": {
        "id": "XMtBCssj5IIB"
      },
      "execution_count": null,
      "outputs": []
    },
    {
      "cell_type": "markdown",
      "source": [],
      "metadata": {
        "id": "VUwK2qxl5KJc"
      }
    }
  ]
}